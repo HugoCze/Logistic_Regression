{
 "cells": [
  {
   "cell_type": "code",
   "execution_count": 27,
   "id": "13a43dfa",
   "metadata": {},
   "outputs": [],
   "source": [
    "import findspark\n",
    "findspark.init('/home/ubuntu/Spark/spark-3.3.0-bin-hadoop3')"
   ]
  },
  {
   "cell_type": "code",
   "execution_count": 28,
   "id": "601136dc",
   "metadata": {},
   "outputs": [],
   "source": [
    "from pyspark.sql import SparkSession\n",
    "spark = SparkSession.builder.appName('Logistic_Regression_Test').getOrCreate()"
   ]
  },
  {
   "cell_type": "code",
   "execution_count": 29,
   "id": "33c19c95",
   "metadata": {},
   "outputs": [],
   "source": [
    "df = spark.read.format(\"csv\").option(\"header\", \"true\").load(\"customer_churn.csv\")"
   ]
  },
  {
   "cell_type": "code",
   "execution_count": 30,
   "id": "15e6b118",
   "metadata": {},
   "outputs": [
    {
     "data": {
      "text/plain": [
       "['Names',\n",
       " 'Age',\n",
       " 'Total_Purchase',\n",
       " 'Account_Manager',\n",
       " 'Years',\n",
       " 'Num_Sites',\n",
       " 'Onboard_date',\n",
       " 'Location',\n",
       " 'Company',\n",
       " 'Churn']"
      ]
     },
     "execution_count": 30,
     "metadata": {},
     "output_type": "execute_result"
    }
   ],
   "source": [
    "df.columns"
   ]
  },
  {
   "cell_type": "code",
   "execution_count": 31,
   "id": "e07c535d",
   "metadata": {},
   "outputs": [
    {
     "data": {
      "text/plain": [
       "[Row(Names='Cameron Williams', Age='42.0', Total_Purchase='11066.8', Account_Manager='0', Years='7.22', Num_Sites='8.0', Onboard_date='2013-08-30 07:00:40', Location='10265 Elizabeth Mission Barkerburgh, AK 89518', Company='Harvey LLC', Churn='1')]"
      ]
     },
     "execution_count": 31,
     "metadata": {},
     "output_type": "execute_result"
    }
   ],
   "source": [
    "df.head(1)"
   ]
  },
  {
   "cell_type": "code",
   "execution_count": 32,
   "id": "4534a7e1",
   "metadata": {},
   "outputs": [
    {
     "data": {
      "text/plain": [
       "[Row(Names='Cameron Williams', Age=42.0, Total_Purchase=11066.7998046875, Account_Manager=0, Years=7.21999979019165, Num_Sites=8.0, Onboard_date='2013-08-30 07:00:40', Location='10265 Elizabeth Mission Barkerburgh, AK 89518', Company='Harvey LLC', Churn=1)]"
      ]
     },
     "execution_count": 32,
     "metadata": {},
     "output_type": "execute_result"
    }
   ],
   "source": [
    "df = df.selectExpr(\"cast(Names as string) Names\", \"cast(Age as float) Age\", \"cast(Total_Purchase as float) Total_Purchase\", \n",
    "                   \"cast(Account_Manager as int) Account_Manager\",\n",
    "                     \"cast(Years as float) Years\", \n",
    "                  \"cast(Num_Sites as float) Num_Sites\", \"cast(Onboard_date as string) Onboard_date\", \n",
    "                  \"cast(Location as string) Location\", \"cast(Company as string) Company\", \n",
    "                  \"cast(Churn as int) Churn\")\n",
    "df.head(1)"
   ]
  },
  {
   "cell_type": "code",
   "execution_count": 33,
   "id": "dc96facc",
   "metadata": {},
   "outputs": [],
   "source": [
    "my_cols = df.select([\n",
    "    'Age',\n",
    "    'Total_Purchase',\n",
    "    'Years',\n",
    "    'Num_Sites',\n",
    "    'Onboard_date',\n",
    "    'Churn',\n",
    "    'Account_Manager',\n",
    "    'Location',\n",
    "    'Company'\n",
    "])"
   ]
  },
  {
   "cell_type": "code",
   "execution_count": 34,
   "id": "eb3530f8",
   "metadata": {},
   "outputs": [],
   "source": [
    "#Deal with missing data - keeping it simple\n",
    "my_final_data = my_cols.na.drop()"
   ]
  },
  {
   "cell_type": "code",
   "execution_count": 35,
   "id": "085fa40e",
   "metadata": {},
   "outputs": [],
   "source": [
    "from pyspark.ml.feature import VectorAssembler, VectorIndexer, StringIndexer, OneHotEncoder"
   ]
  },
  {
   "cell_type": "code",
   "execution_count": 36,
   "id": "8b739cee",
   "metadata": {},
   "outputs": [],
   "source": [
    "date_indexer = StringIndexer(inputCol='Onboard_date', outputCol='Onboard_dateIndex')\n",
    "date_indexer.setHandleInvalid('keep')\n",
    "date_encoder = OneHotEncoder(inputCol='Onboard_dateIndex', outputCol='Onboard_dateVec')"
   ]
  },
  {
   "cell_type": "code",
   "execution_count": 11,
   "id": "5fc5c937",
   "metadata": {},
   "outputs": [],
   "source": [
    "# location_indexer = StringIndexer(inputCol='Location', outputCol='LocationIndex')\n",
    "# location_indexer.setHandleInvalid('keep')\n",
    "# location_encoder = OneHotEncoder(inputCol='LocationIndex', outputCol='LocationVec')"
   ]
  },
  {
   "cell_type": "code",
   "execution_count": 12,
   "id": "5c9036c3",
   "metadata": {},
   "outputs": [],
   "source": [
    "# company_indexer = StringIndexer(inputCol='Company', outputCol='CompanyIndex')\n",
    "# company_indexer.setHandleInvalid('keep')\n",
    "# company_encoder = OneHotEncoder(inputCol='CompanyIndex', outputCol='CompanyVec')"
   ]
  },
  {
   "cell_type": "code",
   "execution_count": 37,
   "id": "95249962",
   "metadata": {},
   "outputs": [],
   "source": [
    "assembler = VectorAssembler(inputCols=[  #'LocationVec', 'CompanyVec',\n",
    "                                        'Onboard_dateVec', 'Age'\n",
    "                                       ,'Total_Purchase','Years','Num_Sites','Account_Manager',], outputCol='features')"
   ]
  },
  {
   "cell_type": "code",
   "execution_count": 38,
   "id": "bbc636f7",
   "metadata": {},
   "outputs": [],
   "source": [
    "from pyspark.ml.classification import LogisticRegression\n",
    "from pyspark.ml import Pipeline"
   ]
  },
  {
   "cell_type": "code",
   "execution_count": 39,
   "id": "fb120882",
   "metadata": {},
   "outputs": [],
   "source": [
    "log_reg_churn = LogisticRegression(featuresCol='features', labelCol='Churn')"
   ]
  },
  {
   "cell_type": "code",
   "execution_count": 40,
   "id": "0874401d",
   "metadata": {},
   "outputs": [],
   "source": [
    "pipeline = Pipeline(stages=[date_indexer, date_encoder, \n",
    "                            assembler, log_reg_churn,\n",
    "#                            company_encoder, company_indexer,\n",
    "#                             location_indexer, location_encoder\n",
    "                           ])"
   ]
  },
  {
   "cell_type": "code",
   "execution_count": 41,
   "id": "fe8a8051",
   "metadata": {},
   "outputs": [],
   "source": [
    "train_data, test_data = my_final_data.randomSplit([0.7, 0.3])"
   ]
  },
  {
   "cell_type": "code",
   "execution_count": 42,
   "id": "4e80272c",
   "metadata": {},
   "outputs": [],
   "source": [
    "fit_model = pipeline.fit(train_data)"
   ]
  },
  {
   "cell_type": "code",
   "execution_count": 43,
   "id": "dca6a867",
   "metadata": {},
   "outputs": [],
   "source": [
    "results = fit_model.transform(test_data)"
   ]
  },
  {
   "cell_type": "code",
   "execution_count": 44,
   "id": "2e8e2eef",
   "metadata": {},
   "outputs": [],
   "source": [
    "from pyspark.ml.evaluation import BinaryClassificationEvaluator"
   ]
  },
  {
   "cell_type": "code",
   "execution_count": 45,
   "id": "f251d137",
   "metadata": {},
   "outputs": [],
   "source": [
    "myeval = BinaryClassificationEvaluator(rawPredictionCol='prediction', labelCol='Churn')"
   ]
  },
  {
   "cell_type": "code",
   "execution_count": 46,
   "id": "5cbdf7f4",
   "metadata": {},
   "outputs": [
    {
     "data": {
      "text/plain": [
       "0.5"
      ]
     },
     "execution_count": 46,
     "metadata": {},
     "output_type": "execute_result"
    }
   ],
   "source": [
    "myeval.evaluate(results)"
   ]
  },
  {
   "cell_type": "code",
   "execution_count": 47,
   "id": "8247b587",
   "metadata": {},
   "outputs": [
    {
     "name": "stdout",
     "output_type": "stream",
     "text": [
      "+-----+----------+\n",
      "|Churn|prediction|\n",
      "+-----+----------+\n",
      "|    0|       0.0|\n",
      "|    0|       0.0|\n",
      "|    1|       0.0|\n",
      "|    0|       0.0|\n",
      "|    0|       0.0|\n",
      "|    0|       0.0|\n",
      "|    1|       0.0|\n",
      "|    0|       0.0|\n",
      "|    1|       0.0|\n",
      "|    0|       0.0|\n",
      "|    0|       0.0|\n",
      "|    0|       0.0|\n",
      "|    0|       0.0|\n",
      "|    0|       0.0|\n",
      "|    0|       0.0|\n",
      "|    0|       0.0|\n",
      "|    0|       0.0|\n",
      "|    0|       0.0|\n",
      "|    0|       0.0|\n",
      "|    0|       0.0|\n",
      "+-----+----------+\n",
      "only showing top 20 rows\n",
      "\n"
     ]
    }
   ],
   "source": [
    "results.select('Churn', 'prediction').show()"
   ]
  },
  {
   "cell_type": "code",
   "execution_count": 48,
   "id": "f2ad8d48",
   "metadata": {},
   "outputs": [],
   "source": [
    "AUC = myeval.evaluate(results)"
   ]
  },
  {
   "cell_type": "code",
   "execution_count": 49,
   "id": "c5ff835d",
   "metadata": {},
   "outputs": [
    {
     "data": {
      "text/plain": [
       "0.5"
      ]
     },
     "execution_count": 49,
     "metadata": {},
     "output_type": "execute_result"
    }
   ],
   "source": [
    "AUC"
   ]
  },
  {
   "cell_type": "code",
   "execution_count": null,
   "id": "c16fc8e8",
   "metadata": {},
   "outputs": [],
   "source": []
  }
 ],
 "metadata": {
  "kernelspec": {
   "display_name": "Python 3 (ipykernel)",
   "language": "python",
   "name": "python3"
  },
  "language_info": {
   "codemirror_mode": {
    "name": "ipython",
    "version": 3
   },
   "file_extension": ".py",
   "mimetype": "text/x-python",
   "name": "python",
   "nbconvert_exporter": "python",
   "pygments_lexer": "ipython3",
   "version": "3.10.4"
  }
 },
 "nbformat": 4,
 "nbformat_minor": 5
}
