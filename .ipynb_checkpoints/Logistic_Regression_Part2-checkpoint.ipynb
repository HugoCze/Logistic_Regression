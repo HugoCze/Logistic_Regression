{
 "cells": [
  {
   "cell_type": "markdown",
   "id": "91dbabc2",
   "metadata": {},
   "source": [
    "# Titanic dataset"
   ]
  },
  {
   "cell_type": "markdown",
   "id": "4abad8a9",
   "metadata": {},
   "source": [
    "Predicting what passengers survived the titanic crash based on the passengers features"
   ]
  },
  {
   "cell_type": "code",
   "execution_count": 123,
   "id": "475e7adb",
   "metadata": {},
   "outputs": [],
   "source": [
    "# fiding spark to initiate\n",
    "import findspark\n",
    "findspark.init('/home/ubuntu/Spark/spark-3.3.0-bin-hadoop3')"
   ]
  },
  {
   "cell_type": "code",
   "execution_count": 124,
   "id": "8ce8d0bf",
   "metadata": {},
   "outputs": [],
   "source": [
    "# importing Spark as usual\n",
    "from pyspark.sql import SparkSession\n",
    "spark = SparkSession.builder.appName('Logistic_Regression_Part2').getOrCreate()"
   ]
  },
  {
   "cell_type": "code",
   "execution_count": 125,
   "id": "586a11a0",
   "metadata": {
    "scrolled": false
   },
   "outputs": [],
   "source": [
    "# defining the df from CSV\n",
    "df = spark.read.format(\"csv\").option(\"header\", \"true\").load(\"titanic.csv\")"
   ]
  },
  {
   "cell_type": "code",
   "execution_count": 147,
   "id": "835f05fd",
   "metadata": {},
   "outputs": [
    {
     "data": {
      "text/plain": [
       "['Parch',\n",
       " 'SibSp',\n",
       " 'Sex',\n",
       " 'Name',\n",
       " 'Pclass',\n",
       " 'Survived',\n",
       " 'PassengerId',\n",
       " 'Fare',\n",
       " 'Age',\n",
       " 'Ticket',\n",
       " 'Cabin',\n",
       " 'Embarked']"
      ]
     },
     "execution_count": 147,
     "metadata": {},
     "output_type": "execute_result"
    }
   ],
   "source": [
    "# checking colums\n",
    "df.columns"
   ]
  },
  {
   "cell_type": "code",
   "execution_count": 127,
   "id": "59e8f10a",
   "metadata": {},
   "outputs": [
    {
     "data": {
      "text/plain": [
       "[Row(Parch=0, SibSp=1, Sex='male', Name='Braund, Mr. Owen Harris', Pclass=3, Survived=0, PassengerId=1, Fare=7.25, Age=22.0, Ticket='A/5 21171', Cabin=None, Embarked='S'),\n",
       " Row(Parch=0, SibSp=1, Sex='female', Name='Cumings, Mrs. John Bradley (Florence Briggs Thayer)', Pclass=1, Survived=1, PassengerId=2, Fare=71.2833023071289, Age=38.0, Ticket='PC 17599', Cabin='C85', Embarked='C')]"
      ]
     },
     "execution_count": 127,
     "metadata": {},
     "output_type": "execute_result"
    }
   ],
   "source": [
    "#Cast method helps us to change the data type for certain colums. Mostlikley the csv unpacking method changes all values to str.\n",
    "df = df.selectExpr(\"cast(Parch as int) Parch\", \"cast(SibSp as int) SibSp\", \"cast(Sex as string) Sex\",\n",
    "              \"cast(Name as string) Name\", \"cast(Pclass as int) Pclass\", \n",
    "              \"cast(Survived as int) Survived\", \"cast(PassengerId as int) PassengerId\", \n",
    "              \"cast(Fare as float) Fare\", \"cast(Age as float) Age\", \n",
    "              \"cast(Ticket as string) Ticket\", \"cast(Cabin as string) Cabin\", \"cast(Embarked as string) Embarked\",)\n",
    "df.head(2)"
   ]
  },
  {
   "cell_type": "code",
   "execution_count": 128,
   "id": "c4a6866d",
   "metadata": {},
   "outputs": [
    {
     "data": {
      "text/plain": [
       "['Parch',\n",
       " 'SibSp',\n",
       " 'Sex',\n",
       " 'Name',\n",
       " 'Pclass',\n",
       " 'Survived',\n",
       " 'PassengerId',\n",
       " 'Fare',\n",
       " 'Age',\n",
       " 'Ticket',\n",
       " 'Cabin',\n",
       " 'Embarked']"
      ]
     },
     "execution_count": 128,
     "metadata": {},
     "output_type": "execute_result"
    }
   ],
   "source": [
    "df.columns"
   ]
  },
  {
   "cell_type": "code",
   "execution_count": 129,
   "id": "de54610c",
   "metadata": {},
   "outputs": [],
   "source": [
    "my_cols = df.select([\n",
    "    'Survived',\n",
    "    'Pclass',\n",
    "    'Sex',\n",
    "    'Age',\n",
    "    'SibSp',\n",
    "    'Parch',\n",
    "    'Fare',\n",
    "    'Cabin',\n",
    "    'Embarked'\n",
    "])"
   ]
  },
  {
   "cell_type": "code",
   "execution_count": 148,
   "id": "9faeef19",
   "metadata": {},
   "outputs": [],
   "source": [
    "#Deal with missing data - keeping it simple - just droping the nan values. \n",
    "# The other way is to fill in the missing data\n",
    "my_final_data = my_cols.na.drop()"
   ]
  },
  {
   "cell_type": "code",
   "execution_count": 131,
   "id": "f8ee9607",
   "metadata": {},
   "outputs": [],
   "source": [
    "from pyspark.ml.feature import VectorAssembler, VectorIndexer, StringIndexer, OneHotEncoder"
   ]
  },
  {
   "cell_type": "code",
   "execution_count": 149,
   "id": "cf38388d",
   "metadata": {},
   "outputs": [],
   "source": [
    "# Creating the string Indexer - in order to further create the SexIndex and later use it to assign the vector value byt OneHotEncoding\n",
    "gender_indexer = StringIndexer(inputCol='Sex', outputCol='SexIndex')\n",
    "# Preforming One Hot Encoding -> Indexing through the vector form of some example category e.g category A will look like [1, 0, 0]\n",
    "# So the array that will indicate the category that it was\n",
    "gender_encoder = OneHotEncoder(inputCol='SexIndex', outputCol='SexVec')"
   ]
  },
  {
   "cell_type": "code",
   "execution_count": 150,
   "id": "aed0c744",
   "metadata": {},
   "outputs": [],
   "source": [
    "# Creating the string Indexer - in order to further create the SexIndex and later use it to assign the vector value byt OneHotEncoding\n",
    "embark_indexer = StringIndexer(inputCol='Embarked', outputCol='EmbarkIndex')\n",
    "# Preforming One Hot Encoding -> Indexing through the vector form of some example category e.g category A will look like [1, 0, 0]\n",
    "# So the array that will indicate the category that it was\n",
    "embark_encoder = OneHotEncoder(inputCol='EmbarkIndex', outputCol='EmbarkVec')"
   ]
  },
  {
   "cell_type": "code",
   "execution_count": 134,
   "id": "715c274c",
   "metadata": {},
   "outputs": [],
   "source": [
    "# Assining the values to Vector 'features' column in order to enable our Logistic Regression method to use the categorycial data.\n",
    "assembler = VectorAssembler(inputCols=['Pclass', 'SexVec', 'EmbarkVec', 'Age','SibSp','Parch','Fare'], outputCol='features')"
   ]
  },
  {
   "cell_type": "code",
   "execution_count": 135,
   "id": "7ccfc8e7",
   "metadata": {},
   "outputs": [],
   "source": [
    "from pyspark.ml.classification import LogisticRegression\n",
    "# Pipeline helps us to set the stages for complicated datasets\n",
    "from pyspark.ml import Pipeline"
   ]
  },
  {
   "cell_type": "code",
   "execution_count": 151,
   "id": "624bd8f4",
   "metadata": {},
   "outputs": [],
   "source": [
    "# Now assigning var for Logistic regression to take info consideration created vector column 'features'\n",
    "# and the final 'Survived' status\n",
    "log_reg_titanic = LogisticRegression(featuresCol='features', labelCol='Survived')"
   ]
  },
  {
   "cell_type": "code",
   "execution_count": 137,
   "id": "32061156",
   "metadata": {},
   "outputs": [],
   "source": [
    "# Now creating the pipeline variable which contains a param of stages that indicates everything we want to do.\n",
    "# Pipline actually exists only for the assembler method. It a kind of way to tell python what we intend to do. \n",
    "# Also at the end we are passing the LG model created ealier.\n",
    "# Further usage of the pipeline invloves it's usage as a normal model.\n",
    "pipeline = Pipeline(stages=[gender_indexer, embark_indexer, gender_encoder, embark_encoder, assembler, log_reg_titanic])"
   ]
  },
  {
   "cell_type": "code",
   "execution_count": 138,
   "id": "84b89cd6",
   "metadata": {},
   "outputs": [],
   "source": [
    "# As ususaly we are splitting the final data \n",
    "train_data, test_data = my_final_data.randomSplit([0.7, 0.3])"
   ]
  },
  {
   "cell_type": "code",
   "execution_count": 156,
   "id": "ce4553d8",
   "metadata": {},
   "outputs": [],
   "source": [
    "# So now we are fitting created model. We are using our pipeline as we would normally do with the machine learning object\n",
    "fit_model = pipeline.fit(train_data)"
   ]
  },
  {
   "cell_type": "code",
   "execution_count": 152,
   "id": "6f67da27",
   "metadata": {},
   "outputs": [],
   "source": [
    "# Now we are transfforming our data. So to speak test our data on the test dataset\n",
    "results = fit_model.transform(test_data)"
   ]
  },
  {
   "cell_type": "code",
   "execution_count": 153,
   "id": "46d7b7c0",
   "metadata": {},
   "outputs": [],
   "source": [
    "# Importing the BinaryClassificationEvaluator allows us to get some clasyffication metrics on binary classification\n",
    "from pyspark.ml.evaluation import BinaryClassificationEvaluator"
   ]
  },
  {
   "cell_type": "code",
   "execution_count": 154,
   "id": "299841d6",
   "metadata": {},
   "outputs": [],
   "source": [
    "# Creating our Evaluating object\n",
    "# The rawPredictionCol='prediction' column name comes from the results. And more particualry the transform method that by \n",
    "# default names the data tested on test data 'prediction'\n",
    "# Furthermore the labelCol='Survived' label col is the label of our orginal data so: 'Survived'\n",
    "my_eval = BinaryClassificationEvaluator(rawPredictionCol='prediction', labelCol='Survived')"
   ]
  },
  {
   "cell_type": "code",
   "execution_count": 1,
   "id": "174e37cb",
   "metadata": {},
   "outputs": [
    {
     "ename": "NameError",
     "evalue": "name 'my_eval' is not defined",
     "output_type": "error",
     "traceback": [
      "\u001b[0;31m---------------------------------------------------------------------------\u001b[0m",
      "\u001b[0;31mNameError\u001b[0m                                 Traceback (most recent call last)",
      "Cell \u001b[0;32mIn [1], line 1\u001b[0m\n\u001b[0;32m----> 1\u001b[0m \u001b[43mmy_eval\u001b[49m\u001b[38;5;241m.\u001b[39mevaluate(results)\n",
      "\u001b[0;31mNameError\u001b[0m: name 'my_eval' is not defined"
     ]
    }
   ],
   "source": [
    "my_eval.evaluate(results)"
   ]
  },
  {
   "cell_type": "code",
   "execution_count": 144,
   "id": "2449e1f6",
   "metadata": {},
   "outputs": [
    {
     "name": "stdout",
     "output_type": "stream",
     "text": [
      "+--------+----------+\n",
      "|Survived|prediction|\n",
      "+--------+----------+\n",
      "|       0|       1.0|\n",
      "|       0|       1.0|\n",
      "|       0|       1.0|\n",
      "|       0|       1.0|\n",
      "|       0|       1.0|\n",
      "|       0|       0.0|\n",
      "|       0|       1.0|\n",
      "|       0|       0.0|\n",
      "|       0|       0.0|\n",
      "|       0|       0.0|\n",
      "|       0|       0.0|\n",
      "|       0|       0.0|\n",
      "|       0|       0.0|\n",
      "|       0|       0.0|\n",
      "|       0|       0.0|\n",
      "|       0|       0.0|\n",
      "|       0|       0.0|\n",
      "|       0|       1.0|\n",
      "|       0|       1.0|\n",
      "|       0|       0.0|\n",
      "+--------+----------+\n",
      "only showing top 20 rows\n",
      "\n"
     ]
    }
   ],
   "source": [
    "# Displaying our comparishment between who actually survived and who was calculated to survive by our model\n",
    "results.select('Survived', 'prediction').show()"
   ]
  },
  {
   "cell_type": "code",
   "execution_count": 155,
   "id": "d83120c5",
   "metadata": {},
   "outputs": [],
   "source": [
    "# In order to evaluate our results we are using the BinaryClassificationEvaluator again\n",
    "# It returns the area under the curve.\n",
    "AUC = my_eval.evaluate(results)"
   ]
  },
  {
   "cell_type": "code",
   "execution_count": 146,
   "id": "d68e5791",
   "metadata": {},
   "outputs": [
    {
     "data": {
      "text/plain": [
       "0.7146341463414634"
      ]
     },
     "execution_count": 146,
     "metadata": {},
     "output_type": "execute_result"
    }
   ],
   "source": [
    "AUC"
   ]
  },
  {
   "cell_type": "code",
   "execution_count": null,
   "id": "a683f562",
   "metadata": {},
   "outputs": [],
   "source": []
  },
  {
   "cell_type": "code",
   "execution_count": null,
   "id": "80c0df08",
   "metadata": {},
   "outputs": [],
   "source": []
  }
 ],
 "metadata": {
  "kernelspec": {
   "display_name": "Python 3 (ipykernel)",
   "language": "python",
   "name": "python3"
  },
  "language_info": {
   "codemirror_mode": {
    "name": "ipython",
    "version": 3
   },
   "file_extension": ".py",
   "mimetype": "text/x-python",
   "name": "python",
   "nbconvert_exporter": "python",
   "pygments_lexer": "ipython3",
   "version": "3.10.4"
  }
 },
 "nbformat": 4,
 "nbformat_minor": 5
}
